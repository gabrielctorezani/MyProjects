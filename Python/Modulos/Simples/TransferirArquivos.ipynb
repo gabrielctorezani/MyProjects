{
 "cells": [
  {
   "cell_type": "markdown",
   "metadata": {},
   "source": [
    "# Tranferi arquivos"
   ]
  },
  {
   "cell_type": "code",
   "execution_count": 77,
   "metadata": {},
   "outputs": [],
   "source": [
    "import os\n",
    "import shutil\n",
    "\n",
    "Caminho1 = input(\"Cole aqui o caminho raiz\")\n",
    "Caminho2 = input(\"Cole aqui o caminho destino\")\n",
    "\n",
    "for root, dirs, files in os.walk(Caminho1):\n",
    "    for file in files:\n",
    "        OldPath = os.path.join(root, file)\n",
    "        NewPath = os.path.join(Caminho2, file)\n",
    "        shutil.move(OldPath, NewPath)\n"
   ]
  },
  {
   "cell_type": "markdown",
   "metadata": {},
   "source": [
    "# Tranferi arquivos de pdf"
   ]
  },
  {
   "cell_type": "code",
   "execution_count": 78,
   "metadata": {},
   "outputs": [],
   "source": [
    "import os\n",
    "import shutil\n",
    "\n",
    "Caminho1 = input(\"Cole aqui o caminho raiz\")\n",
    "Caminho2 = input(\"Cole aqui o caminho destino\")\n",
    "\n",
    "for root, dirs, files in os.walk(Caminho1):\n",
    "    for file in files:\n",
    "        if '.pdf' in file:\n",
    "           OldPath = os.path.join(root, file)\n",
    "           NewPath = os.path.join(Caminho2, file)\n",
    "           shutil.move(OldPath, NewPath)\n"
   ]
  },
  {
   "cell_type": "markdown",
   "metadata": {},
   "source": [
    "# Tranferi arquivos de excel"
   ]
  },
  {
   "cell_type": "code",
   "execution_count": null,
   "metadata": {},
   "outputs": [],
   "source": [
    "import os\n",
    "import shutil\n",
    "\n",
    "Caminho1 = input(\"Cole aqui o caminho raiz\")\n",
    "Caminho2 = input(\"Cole aqui o caminho destino\")\n",
    "\n",
    "for root, dirs, files in os.walk(Caminho1):\n",
    "    for file in files:\n",
    "        if '.xlsx' in file:\n",
    "           OldPath = os.path.join(root, file)\n",
    "           NewPath = os.path.join(Caminho2, file)\n",
    "           shutil.move(OldPath, NewPath)\n"
   ]
  }
 ],
 "metadata": {
  "kernelspec": {
   "display_name": "Python 3.10.7 64-bit",
   "language": "python",
   "name": "python3"
  },
  "language_info": {
   "codemirror_mode": {
    "name": "ipython",
    "version": 3
   },
   "file_extension": ".py",
   "mimetype": "text/x-python",
   "name": "python",
   "nbconvert_exporter": "python",
   "pygments_lexer": "ipython3",
   "version": "3.10.7"
  },
  "orig_nbformat": 4,
  "vscode": {
   "interpreter": {
    "hash": "b1be5a1e9e85905d3e4e97ef1b769f5caa870a8a58c9f9e0ae488b6f0a0e1baf"
   }
  }
 },
 "nbformat": 4,
 "nbformat_minor": 2
}
